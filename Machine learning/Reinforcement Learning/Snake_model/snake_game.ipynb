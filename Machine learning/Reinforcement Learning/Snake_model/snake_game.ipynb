{
 "cells": [
  {
   "cell_type": "code",
   "execution_count": 1,
   "id": "cabf22ea",
   "metadata": {},
   "outputs": [
    {
     "ename": "ModuleNotFoundError",
     "evalue": "No module named 'pygame'",
     "output_type": "error",
     "traceback": [
      "\u001b[1;31m---------------------------------------------------------------------------\u001b[0m",
      "\u001b[1;31mModuleNotFoundError\u001b[0m                       Traceback (most recent call last)",
      "Cell \u001b[1;32mIn[1], line 2\u001b[0m\n\u001b[0;32m      1\u001b[0m \u001b[38;5;66;03m#import modules\u001b[39;00m\n\u001b[1;32m----> 2\u001b[0m \u001b[38;5;28;01mimport\u001b[39;00m \u001b[38;5;21;01mpygame\u001b[39;00m\n\u001b[0;32m      3\u001b[0m \u001b[38;5;28;01mimport\u001b[39;00m \u001b[38;5;21;01mrandom\u001b[39;00m \n\u001b[0;32m      4\u001b[0m \u001b[38;5;28;01mfrom\u001b[39;00m \u001b[38;5;21;01menum\u001b[39;00m \u001b[38;5;28;01mimport\u001b[39;00m Enum\n",
      "\u001b[1;31mModuleNotFoundError\u001b[0m: No module named 'pygame'"
     ]
    }
   ],
   "source": [
    "#import modules\n",
    "import pygame\n",
    "import random \n",
    "from enum import Enum\n",
    "from collections import namedtuple"
   ]
  },
  {
   "cell_type": "code",
   "execution_count": null,
   "id": "fc7af79c",
   "metadata": {},
   "outputs": [],
   "source": [
    "#get \n",
    "pygame.init()\n",
    "font = pygame.font.Font('arial.ttf', 25)"
   ]
  },
  {
   "cell_type": "code",
   "execution_count": null,
   "id": "cf9f6347",
   "metadata": {},
   "outputs": [],
   "source": [
    "class Direction(Enum):\n",
    "    right = 1\n",
    "    left = 2\n",
    "    up = 3\n",
    "    down = 4\n",
    "    \n",
    "Point = namedtuple('Point', 'x','y')\n",
    "\n",
    "#Create colors \n",
    "white = (255,255,255)\n",
    "red = (200,0,0)\n",
    "blue1 = (0,0,255)\n",
    "blue2 = (0,100,255)\n",
    "black = (0,0,0)\n",
    "\n",
    "\n",
    "block_size = 20\n",
    "speed = 50"
   ]
  },
  {
   "cell_type": "code",
   "execution_count": null,
   "id": "59397a5f",
   "metadata": {},
   "outputs": [],
   "source": [
    "class SnakeGame:\n",
    "    \n",
    "    def __init__(self, w = 640, h = 480):\n",
    "        \n",
    "        #Create display\n",
    "        self.w = w\n",
    "        self.h = h\n",
    "        \n",
    "        self.display = pygame.display.set_mode((self.w, self.h))\n",
    "        pygame.display.set_caption('Snake')\n",
    "        self.clock = pygame.time.Clock()\n",
    "        \n",
    "        #initial game state\n",
    "        self.direction = Direction.right \n",
    "        \n",
    "        self.head = Point(self.w/2, self.h/2)\n",
    "        \n",
    "        self.snake = [self.head, \n",
    "                      Point(self.head.x-block_size, self.head.y), \n",
    "                      Point(self.head.x-(2*block_size), self.head.y)]\n",
    "        \n",
    "        self.score = 0\n",
    "        \n",
    "        self.food = None\n",
    "        \n",
    "        self.place_food()\n",
    "        \n",
    "    def place_food(self):\n",
    "        \n",
    "        #Place a random food block in the field, if one does not already exist\n",
    "        x = random.randint(0, (self.w-block_size)//block_size)*block_size\n",
    "        y = random.randint(0, (self.w-block_size)//block_size)*block_size\n",
    "        self.food = Point(x, y)\n",
    "        if self.food in self.snake:\n",
    "            self.place_food()\n",
    "            \n",
    "    def play_step(self):\n",
    "        \n",
    "        for event in pygame.event.get():\n",
    "            \n",
    "            if event.type == pygame.QUIT:\n",
    "                pygame.quit()\n",
    "                quit()\n",
    "            \n",
    "            if event.type == pygame.KEYDOWN:\n",
    "                "
   ]
  },
  {
   "cell_type": "code",
   "execution_count": null,
   "id": "0805d3ec",
   "metadata": {},
   "outputs": [],
   "source": []
  },
  {
   "cell_type": "code",
   "execution_count": null,
   "id": "236f464c",
   "metadata": {},
   "outputs": [],
   "source": []
  },
  {
   "cell_type": "code",
   "execution_count": null,
   "id": "0c642f3d",
   "metadata": {},
   "outputs": [],
   "source": []
  },
  {
   "cell_type": "code",
   "execution_count": null,
   "id": "5075251e",
   "metadata": {},
   "outputs": [],
   "source": []
  }
 ],
 "metadata": {
  "kernelspec": {
   "display_name": "Python 3 (ipykernel)",
   "language": "python",
   "name": "python3"
  },
  "language_info": {
   "codemirror_mode": {
    "name": "ipython",
    "version": 3
   },
   "file_extension": ".py",
   "mimetype": "text/x-python",
   "name": "python",
   "nbconvert_exporter": "python",
   "pygments_lexer": "ipython3",
   "version": "3.9.15"
  }
 },
 "nbformat": 4,
 "nbformat_minor": 5
}
